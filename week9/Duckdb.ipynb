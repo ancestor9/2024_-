{
 "cells": [
  {
   "cell_type": "markdown",
   "metadata": {},
   "source": [
    "- https://duckdb.org/docs/api/python/overview \n",
    "- https://duckdb.org/docs/guides/sql_editors/dbeaver \n",
    "- https://duckdb.org/docs/guides/sql_editors/dbeaver.html"
   ]
  },
  {
   "cell_type": "code",
   "execution_count": 3,
   "metadata": {},
   "outputs": [],
   "source": [
    "import duckdb"
   ]
  },
  {
   "cell_type": "code",
   "execution_count": 4,
   "metadata": {},
   "outputs": [
    {
     "data": {
      "text/plain": [
       "┌───────┐\n",
       "│   i   │\n",
       "│ int32 │\n",
       "├───────┤\n",
       "│    42 │\n",
       "└───────┘"
      ]
     },
     "execution_count": 4,
     "metadata": {},
     "output_type": "execute_result"
    }
   ],
   "source": [
    "r1 = duckdb.sql('SELECT 42 AS i')\n",
    "r1"
   ]
  },
  {
   "cell_type": "code",
   "execution_count": 5,
   "metadata": {},
   "outputs": [
    {
     "data": {
      "text/plain": [
       "┌───────┐\n",
       "│   k   │\n",
       "│ int32 │\n",
       "├───────┤\n",
       "│  4200 │\n",
       "└───────┘"
      ]
     },
     "execution_count": 5,
     "metadata": {},
     "output_type": "execute_result"
    }
   ],
   "source": [
    "duckdb.sql(\"SELECT i*100 AS k FROM r1\")"
   ]
  },
  {
   "cell_type": "code",
   "execution_count": 6,
   "metadata": {},
   "outputs": [
    {
     "data": {
      "text/plain": [
       "┌───────────┐\n",
       "│ (i * 100) │\n",
       "│   int32   │\n",
       "├───────────┤\n",
       "│      4200 │\n",
       "└───────────┘"
      ]
     },
     "execution_count": 6,
     "metadata": {},
     "output_type": "execute_result"
    }
   ],
   "source": [
    "duckdb.sql(\"SELECT i*100 FROM r1\")"
   ]
  },
  {
   "cell_type": "code",
   "execution_count": 9,
   "metadata": {},
   "outputs": [
    {
     "data": {
      "text/plain": [
       "┌─────────┬─────────────┬─────────────┬─────────────┐\n",
       "│ column0 │      a      │      b      │      c      │\n",
       "│  int64  │   double    │   double    │   double    │\n",
       "├─────────┼─────────────┼─────────────┼─────────────┤\n",
       "│       1 │ 0.051017541 │ 0.829733518 │ 0.191106993 │\n",
       "│       2 │ 0.034442112 │ 0.313852899 │ 0.593982669 │\n",
       "│       3 │ 0.980742868 │ 0.517989292 │ 0.706687286 │\n",
       "└─────────┴─────────────┴─────────────┴─────────────┘"
      ]
     },
     "execution_count": 9,
     "metadata": {},
     "output_type": "execute_result"
    }
   ],
   "source": [
    "duckdb.read_csv(\"sample.csv\")"
   ]
  },
  {
   "cell_type": "code",
   "execution_count": 16,
   "metadata": {},
   "outputs": [
    {
     "data": {
      "text/html": [
       "<div>\n",
       "<style scoped>\n",
       "    .dataframe tbody tr th:only-of-type {\n",
       "        vertical-align: middle;\n",
       "    }\n",
       "\n",
       "    .dataframe tbody tr th {\n",
       "        vertical-align: top;\n",
       "    }\n",
       "\n",
       "    .dataframe thead th {\n",
       "        text-align: right;\n",
       "    }\n",
       "</style>\n",
       "<table border=\"1\" class=\"dataframe\">\n",
       "  <thead>\n",
       "    <tr style=\"text-align: right;\">\n",
       "      <th></th>\n",
       "      <th>a</th>\n",
       "      <th>b</th>\n",
       "      <th>c</th>\n",
       "    </tr>\n",
       "  </thead>\n",
       "  <tbody>\n",
       "    <tr>\n",
       "      <th>0</th>\n",
       "      <td>0.051018</td>\n",
       "      <td>0.829734</td>\n",
       "      <td>0.191107</td>\n",
       "    </tr>\n",
       "    <tr>\n",
       "      <th>1</th>\n",
       "      <td>0.034442</td>\n",
       "      <td>0.313853</td>\n",
       "      <td>0.593983</td>\n",
       "    </tr>\n",
       "    <tr>\n",
       "      <th>2</th>\n",
       "      <td>0.980743</td>\n",
       "      <td>0.517989</td>\n",
       "      <td>0.706687</td>\n",
       "    </tr>\n",
       "  </tbody>\n",
       "</table>\n",
       "</div>"
      ],
      "text/plain": [
       "          a         b         c\n",
       "0  0.051018  0.829734  0.191107\n",
       "1  0.034442  0.313853  0.593983\n",
       "2  0.980743  0.517989  0.706687"
      ]
     },
     "execution_count": 16,
     "metadata": {},
     "output_type": "execute_result"
    }
   ],
   "source": [
    "import pandas as pd\n",
    "df = pd.read_csv('sample.csv').iloc[:, 1:]\n",
    "df"
   ]
  },
  {
   "cell_type": "code",
   "execution_count": 40,
   "metadata": {},
   "outputs": [],
   "source": [
    "con = duckdb.connect(database='file.db')\n",
    "con.sql('CREATE TABLE test (i INTEGER)')\n",
    "con.sql('INSERT INTO test VALUES (42)')\n"
   ]
  },
  {
   "cell_type": "code",
   "execution_count": 41,
   "metadata": {},
   "outputs": [
    {
     "name": "stdout",
     "output_type": "stream",
     "text": [
      "┌───────┐\n",
      "│   i   │\n",
      "│ int32 │\n",
      "├───────┤\n",
      "│    42 │\n",
      "└───────┘\n",
      "\n"
     ]
    }
   ],
   "source": [
    "con.table('test').show()"
   ]
  },
  {
   "cell_type": "code",
   "execution_count": 42,
   "metadata": {},
   "outputs": [],
   "source": [
    "con.sql('INSERT INTO test VALUES (44)')"
   ]
  },
  {
   "cell_type": "code",
   "execution_count": 43,
   "metadata": {},
   "outputs": [
    {
     "name": "stdout",
     "output_type": "stream",
     "text": [
      "┌───────┐\n",
      "│   i   │\n",
      "│ int32 │\n",
      "├───────┤\n",
      "│    42 │\n",
      "│    44 │\n",
      "└───────┘\n",
      "\n"
     ]
    }
   ],
   "source": [
    "con.table('test').show()"
   ]
  },
  {
   "cell_type": "code",
   "execution_count": 51,
   "metadata": {},
   "outputs": [
    {
     "name": "stdout",
     "output_type": "stream",
     "text": [
      "┌───────┐\n",
      "│   i   │\n",
      "│ int32 │\n",
      "├───────┤\n",
      "│    42 │\n",
      "│    44 │\n",
      "│    42 │\n",
      "└───────┘\n",
      "\n"
     ]
    }
   ],
   "source": [
    "with duckdb.connect('file.db') as con:\n",
    "    #con.sql('CREATE TABLE test (i INTEGER)')\n",
    "    con.sql('INSERT INTO test VALUES (42)')\n",
    "    con.table('test').show()"
   ]
  },
  {
   "cell_type": "code",
   "execution_count": 52,
   "metadata": {},
   "outputs": [
    {
     "name": "stdout",
     "output_type": "stream",
     "text": [
      "┌────────────┐\n",
      "│     i      │\n",
      "│   int32    │\n",
      "├────────────┤\n",
      "│         42 │\n",
      "│         44 │\n",
      "│         42 │\n",
      "│         50 │\n",
      "│         51 │\n",
      "│         52 │\n",
      "│         53 │\n",
      "│         54 │\n",
      "│         55 │\n",
      "│         56 │\n",
      "│          · │\n",
      "│          · │\n",
      "│          · │\n",
      "│         90 │\n",
      "│         91 │\n",
      "│         92 │\n",
      "│         93 │\n",
      "│         94 │\n",
      "│         95 │\n",
      "│         96 │\n",
      "│         97 │\n",
      "│         98 │\n",
      "│         99 │\n",
      "├────────────┤\n",
      "│  53 rows   │\n",
      "│ (20 shown) │\n",
      "└────────────┘\n",
      "\n"
     ]
    }
   ],
   "source": [
    "with duckdb.connect('file.db') as con:\n",
    "    for i in range(50, 100):\n",
    "        con.sql(f'INSERT INTO test VALUES ({i})')\n",
    "    con.table('test').show()"
   ]
  },
  {
   "cell_type": "code",
   "execution_count": 53,
   "metadata": {},
   "outputs": [
    {
     "ename": "ConnectionException",
     "evalue": "Connection Error: Connection has already been closed",
     "output_type": "error",
     "traceback": [
      "\u001b[1;31m---------------------------------------------------------------------------\u001b[0m",
      "\u001b[1;31mConnectionException\u001b[0m                       Traceback (most recent call last)",
      "Cell \u001b[1;32mIn[53], line 1\u001b[0m\n\u001b[1;32m----> 1\u001b[0m \u001b[43mcon\u001b[49m\u001b[38;5;241;43m.\u001b[39;49m\u001b[43mtable\u001b[49m\u001b[43m(\u001b[49m\u001b[38;5;124;43m'\u001b[39;49m\u001b[38;5;124;43mtest\u001b[39;49m\u001b[38;5;124;43m'\u001b[39;49m\u001b[43m)\u001b[49m\u001b[38;5;241m.\u001b[39mshow()\n",
      "\u001b[1;31mConnectionException\u001b[0m: Connection Error: Connection has already been closed"
     ]
    }
   ],
   "source": [
    "con.table('test').show()"
   ]
  },
  {
   "cell_type": "code",
   "execution_count": 54,
   "metadata": {},
   "outputs": [
    {
     "name": "stdout",
     "output_type": "stream",
     "text": [
      "┌────────────┐\n",
      "│     i      │\n",
      "│   int32    │\n",
      "├────────────┤\n",
      "│         42 │\n",
      "│         44 │\n",
      "│         42 │\n",
      "│         50 │\n",
      "│         51 │\n",
      "│         52 │\n",
      "│         53 │\n",
      "│         54 │\n",
      "│         55 │\n",
      "│         56 │\n",
      "│          · │\n",
      "│          · │\n",
      "│          · │\n",
      "│         90 │\n",
      "│         91 │\n",
      "│         92 │\n",
      "│         93 │\n",
      "│         94 │\n",
      "│         95 │\n",
      "│         96 │\n",
      "│         97 │\n",
      "│         98 │\n",
      "│         99 │\n",
      "├────────────┤\n",
      "│  53 rows   │\n",
      "│ (20 shown) │\n",
      "└────────────┘\n",
      "\n"
     ]
    }
   ],
   "source": [
    "# re connect\n",
    "con = duckdb.connect(database='file.db')\n",
    "con.table('test').show()"
   ]
  },
  {
   "cell_type": "markdown",
   "metadata": {},
   "source": [
    "- **The test table will be listed under the main schema in the DBeaver interface, which is the default schema where tables are usually found in DuckDB.**"
   ]
  },
  {
   "cell_type": "code",
   "execution_count": 59,
   "metadata": {},
   "outputs": [],
   "source": [
    "# Dbeaver에서 조회하려면 close()하고 확인\n",
    "# Closing the connection\n",
    "con.close()"
   ]
  },
  {
   "cell_type": "code",
   "execution_count": 61,
   "metadata": {},
   "outputs": [
    {
     "name": "stdout",
     "output_type": "stream",
     "text": [
      "     i\n",
      "0   42\n",
      "1   44\n",
      "2   42\n",
      "3   50\n",
      "4   51\n",
      "5   52\n",
      "6   53\n",
      "7   54\n",
      "8   55\n",
      "9   56\n",
      "10  57\n",
      "11  58\n",
      "12  59\n",
      "13  60\n",
      "14  61\n",
      "15  62\n",
      "16  63\n",
      "17  64\n",
      "18  65\n",
      "19  66\n",
      "20  67\n",
      "21  68\n",
      "22  69\n",
      "23  70\n",
      "24  71\n",
      "25  72\n",
      "26  73\n",
      "27  74\n",
      "28  75\n",
      "29  76\n",
      "30  77\n",
      "31  78\n",
      "32  79\n",
      "33  80\n",
      "34  81\n",
      "35  82\n",
      "36  83\n",
      "37  84\n",
      "38  85\n",
      "39  86\n",
      "40  87\n",
      "41  88\n",
      "42  89\n",
      "43  90\n",
      "44  91\n",
      "45  92\n",
      "46  93\n",
      "47  94\n",
      "48  95\n",
      "49  96\n",
      "50  97\n",
      "51  98\n",
      "52  99\n"
     ]
    }
   ],
   "source": [
    "con = duckdb.connect(database='file.db')\n",
    "result = con.execute('SELECT * FROM test').fetchdf()\n",
    "print(result)"
   ]
  },
  {
   "cell_type": "code",
   "execution_count": 62,
   "metadata": {},
   "outputs": [
    {
     "name": "stdout",
     "output_type": "stream",
     "text": [
      "          a         b         c\n",
      "0  0.051018  0.829733  0.191107\n",
      "1  0.034442  0.313853  0.593983\n",
      "2  0.980743  0.517989  0.706687\n"
     ]
    },
    {
     "name": "stderr",
     "output_type": "stream",
     "text": [
      "C:\\Users\\조근하\\AppData\\Local\\Temp\\ipykernel_31036\\866922225.py:7: UserWarning: pandas only supports SQLAlchemy connectable (engine/connection) or database string URI or sqlite3 DBAPI2 connection. Other DBAPI2 objects are not tested. Please consider using SQLAlchemy.\n",
      "  df.to_sql('test', con, if_exists='replace', index=False)\n"
     ]
    }
   ],
   "source": [
    "# Connect to DuckDB (in-memory database)\n",
    "con = duckdb.connect(database=':memory:')\n",
    "\n",
    "con = duckdb.connect(database='file.db')\n",
    "\n",
    "# Write the DataFrame to a DuckDB table\n",
    "df.to_sql('test', con, if_exists='replace', index=False)\n",
    "\n",
    "# Query the table to confirm the write operation\n",
    "result = con.execute('SELECT * FROM test').fetchdf()\n",
    "print(result)\n",
    "\n",
    "# Close the connection\n",
    "con.close()"
   ]
  },
  {
   "cell_type": "code",
   "execution_count": 63,
   "metadata": {},
   "outputs": [
    {
     "name": "stdout",
     "output_type": "stream",
     "text": [
      "          a         b         c\n",
      "0  0.051018  0.829733  0.191107\n",
      "1  0.034442  0.313853  0.593983\n",
      "2  0.980743  0.517989  0.706687\n"
     ]
    },
    {
     "name": "stderr",
     "output_type": "stream",
     "text": [
      "C:\\Users\\조근하\\AppData\\Local\\Temp\\ipykernel_31036\\2469124658.py:3: UserWarning: pandas only supports SQLAlchemy connectable (engine/connection) or database string URI or sqlite3 DBAPI2 connection. Other DBAPI2 objects are not tested. Please consider using SQLAlchemy.\n",
      "  df.to_sql('sf', con, if_exists='replace', index=False)\n"
     ]
    }
   ],
   "source": [
    "with duckdb.connect(database='scratch01.db') as con:\n",
    "    # Write the DataFrame to a DuckDB table\n",
    "    df.to_sql('sf', con, if_exists='replace', index=False)\n",
    "    # Query the table to confirm the write operation\n",
    "    result = con.execute('SELECT * FROM sf').fetchdf()\n",
    "    \n",
    "print(result)\n"
   ]
  },
  {
   "cell_type": "code",
   "execution_count": 64,
   "metadata": {},
   "outputs": [
    {
     "name": "stdout",
     "output_type": "stream",
     "text": [
      "          a         b         c\n",
      "0  0.051018  0.829733  0.191107\n",
      "1  0.034442  0.313853  0.593983\n",
      "2  0.980743  0.517989  0.706687\n"
     ]
    }
   ],
   "source": [
    "con = duckdb.connect(database='file.db')\n",
    "result = con.execute('SELECT * FROM test').fetchdf()\n",
    "print(result)"
   ]
  },
  {
   "cell_type": "code",
   "execution_count": 65,
   "metadata": {},
   "outputs": [],
   "source": [
    "con.close()"
   ]
  },
  {
   "cell_type": "markdown",
   "metadata": {},
   "source": []
  }
 ],
 "metadata": {
  "kernelspec": {
   "display_name": "streamlit_venv",
   "language": "python",
   "name": "python3"
  },
  "language_info": {
   "codemirror_mode": {
    "name": "ipython",
    "version": 3
   },
   "file_extension": ".py",
   "mimetype": "text/x-python",
   "name": "python",
   "nbconvert_exporter": "python",
   "pygments_lexer": "ipython3",
   "version": "3.8.10"
  }
 },
 "nbformat": 4,
 "nbformat_minor": 2
}
