{
 "cells": [
  {
   "cell_type": "markdown",
   "metadata": {},
   "source": [
    "## Reading and Writing Files in Python (Guide)\n",
    "- https://realpython.com/read-write-files-python/"
   ]
  },
  {
   "cell_type": "markdown",
   "metadata": {},
   "source": [
    "## 1. File Paths"
   ]
  },
  {
   "cell_type": "code",
   "execution_count": 19,
   "metadata": {},
   "outputs": [
    {
     "name": "stdout",
     "output_type": "stream",
     "text": [
      "c:\\python\n"
     ]
    }
   ],
   "source": [
    "import os\n",
    "\n",
    "print(os.getcwd())\n",
    "\n",
    "origin = os.getcwd()"
   ]
  },
  {
   "cell_type": "code",
   "execution_count": 20,
   "metadata": {},
   "outputs": [
    {
     "name": "stdout",
     "output_type": "stream",
     "text": [
      "C:\\python\\etl\\rocket\n"
     ]
    }
   ],
   "source": [
    "# 변경할 디렉토리 경로 설정\n",
    "new_directory = r'C:\\python\\etl\\rocket'\n",
    "\n",
    "# 현재 작업 디렉토리 변경\n",
    "os.chdir(new_directory)\n",
    "\n",
    "print(os.getcwd())"
   ]
  },
  {
   "cell_type": "code",
   "execution_count": 21,
   "metadata": {},
   "outputs": [],
   "source": [
    "# Assuming your current working directory is c:\\python\\etl\\rocket\n",
    "os.makedirs('../test', exist_ok=True)"
   ]
  },
  {
   "cell_type": "code",
   "execution_count": 22,
   "metadata": {},
   "outputs": [
    {
     "name": "stdout",
     "output_type": "stream",
     "text": [
      "An error occurred: [WinError 183] 파일이 이미 있으므로 만들 수 없습니다: '../test'\n"
     ]
    }
   ],
   "source": [
    "try:\n",
    "    os.makedirs('../test')\n",
    "except Exception as e:\n",
    "    print(f\"An error occurred: {e}\")\n"
   ]
  },
  {
   "cell_type": "code",
   "execution_count": 23,
   "metadata": {},
   "outputs": [],
   "source": [
    "import os\n",
    "\n",
    "# 시작 디렉토리 설정\n",
    "start_dir = '.'  # 현재 디렉토리를 시작 디렉토리로 설정합니다.\n",
    "\n",
    "# os.walk() 함수를 사용하여 시작 디렉토리와 그 하위 디렉토리를 순회합니다.\n",
    "for dirpath, dirnames, filenames in os.walk(start_dir):\n",
    "    # 현재 디렉토리에서 \"test\" 폴더가 있는지 확인합니다.\n",
    "    if \"test\" in dirnames:\n",
    "        # \"test\" 폴더가 발견되면 해당 경로를 출력합니다.\n",
    "        print(\"Found 'test' folder:\", os.path.join(dirpath, \"test\"))\n"
   ]
  },
  {
   "cell_type": "code",
   "execution_count": 28,
   "metadata": {},
   "outputs": [
    {
     "name": "stdout",
     "output_type": "stream",
     "text": [
      "start_directory : c:\\python\\etl\n",
      "Found 'test' folder: c:\\python\\etl\\test\n",
      "Found 'test' folder: c:\\python\\etl\\mage\\Lib\\site-packages\\adodbapi\\test\n",
      "Found 'test' folder: c:\\python\\etl\\mage\\Lib\\site-packages\\gitdb\\test\n",
      "Found 'test' folder: c:\\python\\etl\\mage\\Lib\\site-packages\\isapi\\test\n",
      "Found 'test' folder: c:\\python\\etl\\mage\\Lib\\site-packages\\jedi\\third_party\\django-stubs\\django-stubs\\test\n",
      "Found 'test' folder: c:\\python\\etl\\mage\\Lib\\site-packages\\joblib\\test\n",
      "Found 'test' folder: c:\\python\\etl\\mage\\Lib\\site-packages\\smmap\\test\n",
      "Found 'test' folder: c:\\python\\etl\\mage\\Lib\\site-packages\\tornado\\test\n",
      "Found 'test' folder: c:\\python\\etl\\mage\\Lib\\site-packages\\win32\\test\n",
      "Found 'test' folder: c:\\python\\etl\\mage\\Lib\\site-packages\\win32com\\test\n",
      "Found 'test' folder: c:\\python\\etl\\mage\\Lib\\site-packages\\win32comext\\axscript\\test\n",
      "Found 'test' folder: c:\\python\\etl\\mage\\Lib\\site-packages\\win32comext\\bits\\test\n",
      "Found 'test' folder: c:\\python\\etl\\mage\\Lib\\site-packages\\win32comext\\directsound\\test\n",
      "Found 'test' folder: c:\\python\\etl\\mage\\Lib\\site-packages\\win32comext\\propsys\\test\n",
      "Found 'test' folder: c:\\python\\etl\\mage\\Lib\\site-packages\\win32comext\\shell\\test\n",
      "Found 'test' folder: c:\\python\\etl\\mage\\Lib\\site-packages\\win32comext\\taskscheduler\\test\n"
     ]
    }
   ],
   "source": [
    "import os\n",
    "\n",
    "# 시작 디렉토리 설정\n",
    "start_dir = f'{origin}\\etl'\n",
    "print(f'start_directory : {start_dir}')\n",
    "\n",
    "# os.walk() 함수를 사용하여 시작 디렉토리와 그 하위 디렉토리를 순회합니다.\n",
    "for dirpath, dirnames, filenames in os.walk(start_dir):\n",
    "    # 현재 디렉토리에서 \"test\" 폴더가 있는지 확인합니다.\n",
    "    if \"test\" in dirnames:\n",
    "        # \"test\" 폴더가 발견되면 해당 경로를 출력합니다.\n",
    "        print(\"Found 'test' folder:\", os.path.join(dirpath, \"test\"))"
   ]
  },
  {
   "cell_type": "code",
   "execution_count": 40,
   "metadata": {},
   "outputs": [
    {
     "name": "stdout",
     "output_type": "stream",
     "text": [
      "c:\\python\\etl\\rocket\n"
     ]
    }
   ],
   "source": [
    "working_dir = f'{start_dir}\\\\rocket'\n",
    "\n",
    "os.chdir(working_dir)\n",
    "print(os.getcwd())"
   ]
  },
  {
   "cell_type": "code",
   "execution_count": 42,
   "metadata": {},
   "outputs": [],
   "source": [
    "os.chdir('../..')"
   ]
  },
  {
   "cell_type": "code",
   "execution_count": 43,
   "metadata": {},
   "outputs": [
    {
     "name": "stdout",
     "output_type": "stream",
     "text": [
      "c:\\python\n"
     ]
    }
   ],
   "source": [
    "print(os.getcwd())"
   ]
  },
  {
   "cell_type": "code",
   "execution_count": 45,
   "metadata": {},
   "outputs": [
    {
     "data": {
      "text/plain": [
       "['wine_dataset.csv', 'wine_quality_dataset.csv']"
      ]
     },
     "execution_count": 45,
     "metadata": {},
     "output_type": "execute_result"
    }
   ],
   "source": [
    "import glob\n",
    "glob.glob('*.*')"
   ]
  },
  {
   "cell_type": "code",
   "execution_count": 46,
   "metadata": {},
   "outputs": [
    {
     "data": {
      "text/plain": [
       "['..\\\\$Recycle.Bin',\n",
       " '..\\\\agentlog.txt',\n",
       " '..\\\\ASDi.dll.logs',\n",
       " '..\\\\bootTel.dat',\n",
       " '..\\\\CORE.dll.logs',\n",
       " '..\\\\crime2023.csv',\n",
       " '..\\\\DumpStack.log.tmp',\n",
       " '..\\\\eula.1042.txt',\n",
       " '..\\\\globdata.ini',\n",
       " '..\\\\hiberfil.sys',\n",
       " '..\\\\install.exe',\n",
       " '..\\\\install.ini',\n",
       " '..\\\\install.res.1042.dll',\n",
       " '..\\\\pagefile.sys',\n",
       " '..\\\\swapfile.sys',\n",
       " '..\\\\vcredist.bmp',\n",
       " '..\\\\VC_RED.cab',\n",
       " '..\\\\VC_RED.MSI']"
      ]
     },
     "execution_count": 46,
     "metadata": {},
     "output_type": "execute_result"
    }
   ],
   "source": [
    "glob.glob('../*.*')"
   ]
  },
  {
   "cell_type": "markdown",
   "metadata": {},
   "source": [
    "## 2. Line Endings"
   ]
  },
  {
   "cell_type": "code",
   "execution_count": 47,
   "metadata": {},
   "outputs": [],
   "source": [
    "# \\r\\n은 텍스트에서 줄 바꿈을 나타내는 특수한 제어 문자\n",
    "# \\r: 캐리지 리턴(carriage return)을 나타냅니다. 이는 커서를 현재 라인의 처음(맨 앞)으로 이동\n",
    "# \\n: 라인 피드(line feed)를 나타냅니다. 이는 커서를 다음 줄로 이동\n",
    "# 두 문자를 함께 사용하면 줄 바꿈을 나타내며, 이는 대부분의 텍스트 파일에서 줄 바꿈을 표현하는 표준 방식\n",
    "# Windows 운영 체제에서는 일반적으로 줄 바꿈을 나타내기 위해 \\r\\n을 사용하고, Unix/Linux 시스템에서는 \\n만 사용\n",
    "\n",
    "\n",
    "dog_breeds = '''\n",
    "Pug\\r\\n\n",
    "Jack Russell Terrier\\r\\n\n",
    "English Springer Spaniel\\r\\n\n",
    "German Shepherd\\r\\n\n",
    "Staffordshire Bull Terrier\\r\\n\n",
    "Cavalier King Charles Spaniel\\r\\n\n",
    "Golden Retriever\\r\\n\n",
    "West Highland White Terrier\\r\\n\n",
    "Boxer\\r\\n\n",
    "Border Terrier\\r\\n\n",
    "'''"
   ]
  },
  {
   "cell_type": "code",
   "execution_count": 48,
   "metadata": {},
   "outputs": [
    {
     "name": "stdout",
     "output_type": "stream",
     "text": [
      "\n",
      "Pug\n",
      "\n",
      "Jack Russell Terrier\n",
      "\n",
      "English Springer Spaniel\n",
      "\n",
      "German Shepherd\n",
      "\n",
      "Staffordshire Bull Terrier\n",
      "\n",
      "Cavalier King Charles Spaniel\n",
      "\n",
      "Golden Retriever\n",
      "\n",
      "West Highland White Terrier\n",
      "\n",
      "Boxer\n",
      "\n",
      "Border Terrier\n",
      "\n",
      "\n"
     ]
    }
   ],
   "source": [
    "print(dog_breeds)"
   ]
  },
  {
   "cell_type": "code",
   "execution_count": 51,
   "metadata": {},
   "outputs": [
    {
     "name": "stdout",
     "output_type": "stream",
     "text": [
      "\n",
      "Pug\\r\\n\n",
      "Jack Russell Terrier\\r\\n\n",
      "English Springer Spaniel\\r\\n\n",
      "German Shepherd\\r\\n\n",
      "Staffordshire Bull Terrier\\r\\n\n",
      "Cavalier King Charles Spaniel\\r\\n\n",
      "Golden Retriever\\r\\n\n",
      "West Highland White Terrier\\r\\n\n",
      "Boxer\\r\\n\n",
      "Border Terrier\\r\\n\n",
      "\n"
     ]
    }
   ],
   "source": [
    "# 문자열에서 \\r\\n을 모두 출력\n",
    "print(dog_breeds.replace('\\r\\n', '\\\\r\\\\n'))"
   ]
  },
  {
   "cell_type": "code",
   "execution_count": 2,
   "metadata": {},
   "outputs": [
    {
     "ename": "FileNotFoundError",
     "evalue": "[Errno 2] No such file or directory: 'dog_breeds.txt'",
     "output_type": "error",
     "traceback": [
      "\u001b[1;31m---------------------------------------------------------------------------\u001b[0m",
      "\u001b[1;31mFileNotFoundError\u001b[0m                         Traceback (most recent call last)",
      "Cell \u001b[1;32mIn[2], line 3\u001b[0m\n\u001b[0;32m      1\u001b[0m \u001b[38;5;66;03m# If you're running the open('dog_breeds.txt') command in an environment that does not raise a FileNotFoundError when the file does not exist, \u001b[39;00m\n\u001b[0;32m      2\u001b[0m \u001b[38;5;66;03m# it may be due to specific configurations or error handling built into that environment.\u001b[39;00m\n\u001b[1;32m----> 3\u001b[0m file \u001b[38;5;241m=\u001b[39m \u001b[38;5;28;43mopen\u001b[39;49m\u001b[43m(\u001b[49m\u001b[38;5;124;43m'\u001b[39;49m\u001b[38;5;124;43mdog_breeds.txt\u001b[39;49m\u001b[38;5;124;43m'\u001b[39;49m\u001b[43m)\u001b[49m\n",
      "File \u001b[1;32mc:\\python\\etl\\mage\\lib\\site-packages\\IPython\\core\\interactiveshell.py:282\u001b[0m, in \u001b[0;36m_modified_open\u001b[1;34m(file, *args, **kwargs)\u001b[0m\n\u001b[0;32m    275\u001b[0m \u001b[38;5;28;01mif\u001b[39;00m file \u001b[38;5;129;01min\u001b[39;00m {\u001b[38;5;241m0\u001b[39m, \u001b[38;5;241m1\u001b[39m, \u001b[38;5;241m2\u001b[39m}:\n\u001b[0;32m    276\u001b[0m     \u001b[38;5;28;01mraise\u001b[39;00m \u001b[38;5;167;01mValueError\u001b[39;00m(\n\u001b[0;32m    277\u001b[0m         \u001b[38;5;124mf\u001b[39m\u001b[38;5;124m\"\u001b[39m\u001b[38;5;124mIPython won\u001b[39m\u001b[38;5;124m'\u001b[39m\u001b[38;5;124mt let you open fd=\u001b[39m\u001b[38;5;132;01m{\u001b[39;00mfile\u001b[38;5;132;01m}\u001b[39;00m\u001b[38;5;124m by default \u001b[39m\u001b[38;5;124m\"\u001b[39m\n\u001b[0;32m    278\u001b[0m         \u001b[38;5;124m\"\u001b[39m\u001b[38;5;124mas it is likely to crash IPython. If you know what you are doing, \u001b[39m\u001b[38;5;124m\"\u001b[39m\n\u001b[0;32m    279\u001b[0m         \u001b[38;5;124m\"\u001b[39m\u001b[38;5;124myou can use builtins\u001b[39m\u001b[38;5;124m'\u001b[39m\u001b[38;5;124m open.\u001b[39m\u001b[38;5;124m\"\u001b[39m\n\u001b[0;32m    280\u001b[0m     )\n\u001b[1;32m--> 282\u001b[0m \u001b[38;5;28;01mreturn\u001b[39;00m \u001b[43mio_open\u001b[49m\u001b[43m(\u001b[49m\u001b[43mfile\u001b[49m\u001b[43m,\u001b[49m\u001b[43m \u001b[49m\u001b[38;5;241;43m*\u001b[39;49m\u001b[43margs\u001b[49m\u001b[43m,\u001b[49m\u001b[43m \u001b[49m\u001b[38;5;241;43m*\u001b[39;49m\u001b[38;5;241;43m*\u001b[39;49m\u001b[43mkwargs\u001b[49m\u001b[43m)\u001b[49m\n",
      "\u001b[1;31mFileNotFoundError\u001b[0m: [Errno 2] No such file or directory: 'dog_breeds.txt'"
     ]
    }
   ],
   "source": [
    "file = open('dog_breeds.txt')"
   ]
  },
  {
   "cell_type": "code",
   "execution_count": 52,
   "metadata": {},
   "outputs": [
    {
     "data": {
      "text/plain": [
       "'c:\\\\python'"
      ]
     },
     "execution_count": 52,
     "metadata": {},
     "output_type": "execute_result"
    }
   ],
   "source": [
    "os.getcwd()"
   ]
  },
  {
   "cell_type": "code",
   "execution_count": 56,
   "metadata": {},
   "outputs": [
    {
     "name": "stdout",
     "output_type": "stream",
     "text": [
      "Writing dog_breeds.txt\n"
     ]
    }
   ],
   "source": [
    "%%writefile dog_breeds.txt\n",
    "\n",
    "dog_breeds"
   ]
  },
  {
   "cell_type": "code",
   "execution_count": 57,
   "metadata": {},
   "outputs": [],
   "source": [
    "file = open('dog_breeds.txt')"
   ]
  },
  {
   "cell_type": "code",
   "execution_count": 58,
   "metadata": {},
   "outputs": [
    {
     "data": {
      "text/plain": [
       "<_io.TextIOWrapper name='dog_breeds.txt' mode='r' encoding='cp949'>"
      ]
     },
     "execution_count": 58,
     "metadata": {},
     "output_type": "execute_result"
    }
   ],
   "source": [
    "file  # default is read mode"
   ]
  },
  {
   "cell_type": "code",
   "execution_count": 60,
   "metadata": {},
   "outputs": [],
   "source": [
    "reader = open('dog_breeds.txt')\n",
    "\n",
    "try:\n",
    "    # Further file processing goes here\n",
    "    pass\n",
    "finally:\n",
    "    reader.close()\n"
   ]
  },
  {
   "cell_type": "code",
   "execution_count": 62,
   "metadata": {},
   "outputs": [],
   "source": [
    "with open('dog_breeds.txt') as reader:\n",
    "    # Further file processing goes here\n",
    "    pass"
   ]
  },
  {
   "cell_type": "markdown",
   "metadata": {},
   "source": [
    "| Character | Meaning                                               |\n",
    "|-----------|-------------------------------------------------------|\n",
    "| 'r'       | Open for reading (default)                            |\n",
    "| 'w'       | Open for writing, truncating (overwriting) the file first |\n",
    "| 'rb' or 'wb' | Open in binary mode (read/write using byte data)    | \n",
    "\n",
    "\n",
    "### > **file object** is:\n",
    "#### “an object exposing a **file-oriented API** (with methods such as read() or write()) to an underlying resource.” \n",
    "\n",
    "\n"
   ]
  },
  {
   "cell_type": "code",
   "execution_count": null,
   "metadata": {},
   "outputs": [],
   "source": []
  }
 ],
 "metadata": {
  "kernelspec": {
   "display_name": "zorotest",
   "language": "python",
   "name": "zorotest"
  },
  "language_info": {
   "codemirror_mode": {
    "name": "ipython",
    "version": 3
   },
   "file_extension": ".py",
   "mimetype": "text/x-python",
   "name": "python",
   "nbconvert_exporter": "python",
   "pygments_lexer": "ipython3",
   "version": "3.8.10"
  }
 },
 "nbformat": 4,
 "nbformat_minor": 2
}
