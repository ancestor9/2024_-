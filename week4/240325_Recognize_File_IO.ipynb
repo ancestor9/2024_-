{
 "cells": [
  {
   "cell_type": "markdown",
   "metadata": {},
   "source": [
    "### There are three different categories of file objects:\n",
    "- https://docs.python.org/3/library/io.html \n",
    "- Core tools for working with streams\n",
    "\n",
    "> #### 1. Text files\n",
    "> #### 2. Buffered binary files\n",
    "> #### 3. Raw binary files"
   ]
  },
  {
   "cell_type": "code",
   "execution_count": 4,
   "metadata": {},
   "outputs": [],
   "source": [
    "from IPython.core.interactiveshell import InteractiveShell\n",
    "InteractiveShell.ast_node_interactivity = \"all\""
   ]
  },
  {
   "cell_type": "markdown",
   "metadata": {},
   "source": [
    "> ### **1. Text files**"
   ]
  },
  {
   "cell_type": "code",
   "execution_count": 24,
   "metadata": {},
   "outputs": [
    {
     "name": "stdout",
     "output_type": "stream",
     "text": [
      "Overwriting dog_breeds.txt\n"
     ]
    }
   ],
   "source": [
    "%%writefile dog_breeds.txt\n",
    "\n",
    "''\n",
    "Pug\\r\\n\n",
    "Jack Russell Terrier\\r\\n\n",
    "English Springer Spaniel\\r\\n\n",
    "German Shepherd\\r\\n\n",
    "Staffordshire Bull Terrier\\r\\n\n",
    "Cavalier King Charles Spaniel\\r\\n\n",
    "Golden Retriever\\r\\n\n",
    "West Highland White Terrier\\r\\n\n",
    "Boxer\\r\\n\n",
    "Border Terrier\\r\\n\n",
    "'''"
   ]
  },
  {
   "cell_type": "code",
   "execution_count": 22,
   "metadata": {},
   "outputs": [
    {
     "name": "stdout",
     "output_type": "stream",
     "text": [
      "<class '_io.TextIOWrapper'>\n"
     ]
    }
   ],
   "source": [
    "file = open('dog_breeds.txt')\n",
    "print(type(file))"
   ]
  },
  {
   "cell_type": "markdown",
   "metadata": {},
   "source": [
    "> ### **2. Buffered binary files**"
   ]
  },
  {
   "cell_type": "code",
   "execution_count": 25,
   "metadata": {},
   "outputs": [
    {
     "data": {
      "text/plain": [
       "_io.BufferedReader"
      ]
     },
     "execution_count": 25,
     "metadata": {},
     "output_type": "execute_result"
    },
    {
     "data": {
      "text/plain": [
       "_io.BufferedWriter"
      ]
     },
     "execution_count": 25,
     "metadata": {},
     "output_type": "execute_result"
    }
   ],
   "source": [
    "file = open('dog_breeds.txt', 'rb')\n",
    "type(file)\n",
    "\n",
    "file = open('dog_breeds.txt', 'wb')\n",
    "type(file)"
   ]
  },
  {
   "cell_type": "markdown",
   "metadata": {},
   "source": [
    "> ### **3. Raw binary files**\n",
    "- generally not used"
   ]
  },
  {
   "cell_type": "code",
   "execution_count": 17,
   "metadata": {},
   "outputs": [
    {
     "data": {
      "text/plain": [
       "_io.FileIO"
      ]
     },
     "execution_count": 17,
     "metadata": {},
     "output_type": "execute_result"
    }
   ],
   "source": [
    "file = open('dog_breeds.txt', 'rb', buffering=0)\n",
    "type(file)"
   ]
  },
  {
   "cell_type": "markdown",
   "metadata": {},
   "source": [
    ">> ### **Reading and Writing Opened Files**"
   ]
  },
  {
   "cell_type": "code",
   "execution_count": 26,
   "metadata": {},
   "outputs": [
    {
     "name": "stdout",
     "output_type": "stream",
     "text": [
      "\n"
     ]
    }
   ],
   "source": [
    "with open('dog_breeds.txt', 'r') as reader:\n",
    "    # Read & print the entire file\n",
    "    print(reader.read())"
   ]
  },
  {
   "cell_type": "markdown",
   "metadata": {},
   "source": [
    "코드에서 파일을 'wb' 모드로 열었기 때문에 파일에는 이진 데이터가 쓰여졌습니다. 그 후에는 파일을 'rb' 모드로 열었지만, 이는 이진 데이터를 읽으려는 것입니다. 이진 데이터를 읽을 때는 텍스트 데이터가 아니기 때문에 read() 함수로 직접 읽을 수가 없다."
   ]
  },
  {
   "cell_type": "code",
   "execution_count": 33,
   "metadata": {},
   "outputs": [
    {
     "name": "stdout",
     "output_type": "stream",
     "text": [
      "Overwriting dog_breeds.txt\n"
     ]
    }
   ],
   "source": [
    "%%writefile dog_breeds.txt\n",
    "\n",
    "''\n",
    "Pug\\r\\n\n",
    "Jack Russell Terrier\\r\\n\n",
    "English Springer Spaniel\\r\\n\n",
    "German Shepherd\\r\\n\n",
    "Staffordshire Bull Terrier\\r\\n\n",
    "Cavalier King Charles Spaniel\\r\\n\n",
    "Golden Retriever\\r\\n\n",
    "West Highland White Terrier\\r\\n\n",
    "Boxer\\r\\n\n",
    "Border Terrier\\r\\n\n",
    "'''"
   ]
  },
  {
   "cell_type": "code",
   "execution_count": 34,
   "metadata": {},
   "outputs": [
    {
     "name": "stdout",
     "output_type": "stream",
     "text": [
      "\n",
      "''\n",
      "Pug\\r\\n\n",
      "Jack Russell Terrier\\r\\n\n",
      "English Springer Spaniel\\r\\n\n",
      "German Shepherd\\r\\n\n",
      "Staffordshire Bull Terrier\\r\\n\n",
      "Cavalier King Charles Spaniel\\r\\n\n",
      "Golden Retriever\\r\\n\n",
      "West Highland White Terrier\\r\\n\n",
      "Boxer\\r\\n\n",
      "Border Terrier\\r\\n\n",
      "'''\n",
      "\n"
     ]
    }
   ],
   "source": [
    "with open('dog_breeds.txt', 'r') as reader:\n",
    "    # Read & print the entire file\n",
    "    print(reader.read())"
   ]
  },
  {
   "cell_type": "code",
   "execution_count": 31,
   "metadata": {},
   "outputs": [
    {
     "name": "stdout",
     "output_type": "stream",
     "text": [
      "\n",
      "''\n",
      "Pug\\r\\n\n",
      "Jack Russell Terrier\\r\\n\n",
      "English Springer Spaniel\\r\\n\n",
      "German Shepherd\\r\\n\n",
      "Staffordshire Bull Terrier\\r\\n\n",
      "Cavalier King Charles Spaniel\\r\\n\n",
      "Golden Retriever\\r\\n\n",
      "West Highland White Terrier\\r\\n\n",
      "Boxer\\r\\n\n",
      "Border Terrier\\r\\n\n",
      "'''\n",
      "\n"
     ]
    }
   ],
   "source": [
    "with open('dog_breeds.txt', 'r') as reader:\n",
    "    # Read & print the entire file\n",
    "    print(reader.read())"
   ]
  },
  {
   "cell_type": "code",
   "execution_count": 35,
   "metadata": {},
   "outputs": [
    {
     "name": "stdout",
     "output_type": "stream",
     "text": [
      "\n",
      "\n",
      "''\n",
      "\n",
      "Pug\\r\n",
      "\\n\n",
      "\n",
      "Jack \n"
     ]
    }
   ],
   "source": [
    "with open('dog_breeds.txt', 'r') as reader:\n",
    "    # Read & print the first 5 characters of the line 5 times\n",
    "    print(reader.readline(5))\n",
    "    # Notice that line is greater than the 5 chars and continues\n",
    "    # down the line, reading 5 chars each time until the end of the\n",
    "    # line and then \"wraps\" around\n",
    "    print(reader.readline(5))\n",
    "    print(reader.readline(5))\n",
    "    print(reader.readline(5))\n",
    "    print(reader.readline(5))"
   ]
  },
  {
   "cell_type": "code",
   "execution_count": 36,
   "metadata": {},
   "outputs": [
    {
     "data": {
      "text/plain": [
       "['\\n',\n",
       " \"''\\n\",\n",
       " 'Pug\\\\r\\\\n\\n',\n",
       " 'Jack Russell Terrier\\\\r\\\\n\\n',\n",
       " 'English Springer Spaniel\\\\r\\\\n\\n',\n",
       " 'German Shepherd\\\\r\\\\n\\n',\n",
       " 'Staffordshire Bull Terrier\\\\r\\\\n\\n',\n",
       " 'Cavalier King Charles Spaniel\\\\r\\\\n\\n',\n",
       " 'Golden Retriever\\\\r\\\\n\\n',\n",
       " 'West Highland White Terrier\\\\r\\\\n\\n',\n",
       " 'Boxer\\\\r\\\\n\\n',\n",
       " 'Border Terrier\\\\r\\\\n\\n',\n",
       " \"'''\\n\"]"
      ]
     },
     "execution_count": 36,
     "metadata": {},
     "output_type": "execute_result"
    }
   ],
   "source": [
    "f = open('dog_breeds.txt')\n",
    "f.readlines()  # Returns a list object"
   ]
  },
  {
   "cell_type": "code",
   "execution_count": 37,
   "metadata": {},
   "outputs": [
    {
     "data": {
      "text/plain": [
       "['\\n',\n",
       " \"''\\n\",\n",
       " 'Pug\\\\r\\\\n\\n',\n",
       " 'Jack Russell Terrier\\\\r\\\\n\\n',\n",
       " 'English Springer Spaniel\\\\r\\\\n\\n',\n",
       " 'German Shepherd\\\\r\\\\n\\n',\n",
       " 'Staffordshire Bull Terrier\\\\r\\\\n\\n',\n",
       " 'Cavalier King Charles Spaniel\\\\r\\\\n\\n',\n",
       " 'Golden Retriever\\\\r\\\\n\\n',\n",
       " 'West Highland White Terrier\\\\r\\\\n\\n',\n",
       " 'Boxer\\\\r\\\\n\\n',\n",
       " 'Border Terrier\\\\r\\\\n\\n',\n",
       " \"'''\\n\"]"
      ]
     },
     "execution_count": 37,
     "metadata": {},
     "output_type": "execute_result"
    }
   ],
   "source": [
    "f = open('dog_breeds.txt')\n",
    "list(f)"
   ]
  },
  {
   "cell_type": "code",
   "execution_count": 38,
   "metadata": {},
   "outputs": [
    {
     "name": "stdout",
     "output_type": "stream",
     "text": [
      "\n",
      "''\n",
      "Pug\\r\\n\n",
      "Jack Russell Terrier\\r\\n\n",
      "English Springer Spaniel\\r\\n\n",
      "German Shepherd\\r\\n\n",
      "Staffordshire Bull Terrier\\r\\n\n",
      "Cavalier King Charles Spaniel\\r\\n\n",
      "Golden Retriever\\r\\n\n",
      "West Highland White Terrier\\r\\n\n",
      "Boxer\\r\\n\n",
      "Border Terrier\\r\\n\n",
      "'''\n"
     ]
    }
   ],
   "source": [
    "with open('dog_breeds.txt', 'r') as reader:\n",
    "    # Read and print the entire file line by line\n",
    "    line = reader.readline()\n",
    "    while line != '':  # The EOF char is an empty string\n",
    "        print(line, end='')\n",
    "        line = reader.readline()"
   ]
  },
  {
   "cell_type": "code",
   "execution_count": 39,
   "metadata": {},
   "outputs": [
    {
     "name": "stdout",
     "output_type": "stream",
     "text": [
      "\n",
      "''\n",
      "Pug\\r\\n\n",
      "Jack Russell Terrier\\r\\n\n",
      "English Springer Spaniel\\r\\n\n",
      "German Shepherd\\r\\n\n",
      "Staffordshire Bull Terrier\\r\\n\n",
      "Cavalier King Charles Spaniel\\r\\n\n",
      "Golden Retriever\\r\\n\n",
      "West Highland White Terrier\\r\\n\n",
      "Boxer\\r\\n\n",
      "Border Terrier\\r\\n\n",
      "'''\n"
     ]
    }
   ],
   "source": [
    "with open('dog_breeds.txt', 'r') as reader:\n",
    "    for line in reader.readlines():\n",
    "        print(line, end='')"
   ]
  },
  {
   "cell_type": "code",
   "execution_count": 40,
   "metadata": {},
   "outputs": [
    {
     "name": "stdout",
     "output_type": "stream",
     "text": [
      "\n",
      "''\n",
      "Pug\\r\\n\n",
      "Jack Russell Terrier\\r\\n\n",
      "English Springer Spaniel\\r\\n\n",
      "German Shepherd\\r\\n\n",
      "Staffordshire Bull Terrier\\r\\n\n",
      "Cavalier King Charles Spaniel\\r\\n\n",
      "Golden Retriever\\r\\n\n",
      "West Highland White Terrier\\r\\n\n",
      "Boxer\\r\\n\n",
      "Border Terrier\\r\\n\n",
      "'''\n"
     ]
    }
   ],
   "source": [
    "with open('dog_breeds.txt', 'r') as reader:\n",
    "    # Read and print the entire file line by line\n",
    "    for line in reader:\n",
    "        print(line, end='')"
   ]
  },
  {
   "cell_type": "code",
   "execution_count": 41,
   "metadata": {},
   "outputs": [
    {
     "name": "stdout",
     "output_type": "stream",
     "text": [
      "b'\\r\\n'\n"
     ]
    }
   ],
   "source": [
    "with open('dog_breeds.txt', 'rb') as reader:\n",
    "    print(reader.readline())"
   ]
  },
  {
   "cell_type": "code",
   "execution_count": 62,
   "metadata": {},
   "outputs": [
    {
     "name": "stdout",
     "output_type": "stream",
     "text": [
      "Image downloaded successfully: Italian_job.png\n"
     ]
    }
   ],
   "source": [
    "import requests\n",
    "\n",
    "def download_image(url, filename):\n",
    "    try:\n",
    "        response = requests.get(url)\n",
    "        if response.status_code == 200:\n",
    "            with open(filename, 'wb') as file:\n",
    "                file.write(response.content)\n",
    "            print(f\"Image downloaded successfully: {filename}\")\n",
    "        else:\n",
    "            print(f\"Failed to download image. Status code: {response.status_code}\")\n",
    "    except requests.exceptions.RequestException as e:\n",
    "        print(f\"Failed to download image: {e}\")\n",
    "\n",
    "# 주어진 URL에서 이미지를 다운로드하여 파일에 저장\n",
    "url ='https://i.namu.wiki/i/YvXv2R2AZMqIPrW6jqEy5WIOAwPO7yBIKdDIaZv3k-jicenytWwib7XoNOhTLS6A1sRc3UcrcTvo1vP0d_Z5Mw.webp'\n",
    "filename = \"Italian_job.png\"\n",
    "download_image(url, filename)\n"
   ]
  },
  {
   "cell_type": "code",
   "execution_count": 63,
   "metadata": {},
   "outputs": [],
   "source": [
    "from PIL import Image\n",
    "# 이미지 열기\n",
    "image = Image.open(\"Italian_job.png\")\n",
    "# 이미지 표시\n",
    "image.show()"
   ]
  },
  {
   "cell_type": "code",
   "execution_count": 64,
   "metadata": {},
   "outputs": [
    {
     "name": "stdout",
     "output_type": "stream",
     "text": [
      "b'R'\n",
      "b'IFF'\n",
      "b'\\xc6\"\\x01\\x00WEBPVP8 \\xba\"\\x01\\x00\\x90\\xed\\x03\\x9d'\n",
      "b'\\x01*\\x9a\\x02\\xe7\\x03>m2\\x95G'\n",
      "b'\\xa4'\n"
     ]
    }
   ],
   "source": [
    "# 파일을 이진 모드로 읽을 때 byte_reader.read(n)은 파일에서 n바이트만큼 읽어오는 메서드입니다. \n",
    "# 이 메서드는 파일의 현재 위치에서 n바이트를 읽어오고, 그 다음에 읽을 위치를 n바이트만큼 앞으로 이동\n",
    "\n",
    "with open('Italian_job.png', 'rb') as byte_reader:\n",
    "    print(byte_reader.read(1))\n",
    "    print(byte_reader.read(3))\n",
    "    print(byte_reader.read(20))\n",
    "    print(byte_reader.read(11))\n",
    "    print(byte_reader.read(1))"
   ]
  },
  {
   "cell_type": "code",
   "execution_count": 66,
   "metadata": {},
   "outputs": [
    {
     "name": "stdout",
     "output_type": "stream",
     "text": [
      "b'R'\n",
      "b'IFF'\n",
      "b'\\xc6\"'\n",
      "b'\\x01'\n",
      "b'\\x00'\n"
     ]
    }
   ],
   "source": [
    "with open('Italian_job.png', 'rb') as byte_reader:\n",
    "    print(byte_reader.read(1))\n",
    "    print(byte_reader.read(3))\n",
    "    print(byte_reader.read(2))\n",
    "    print(byte_reader.read(1))\n",
    "    print(byte_reader.read(1))"
   ]
  },
  {
   "cell_type": "code",
   "execution_count": null,
   "metadata": {},
   "outputs": [],
   "source": []
  }
 ],
 "metadata": {
  "kernelspec": {
   "display_name": "zorotest",
   "language": "python",
   "name": "zorotest"
  },
  "language_info": {
   "codemirror_mode": {
    "name": "ipython",
    "version": 3
   },
   "file_extension": ".py",
   "mimetype": "text/x-python",
   "name": "python",
   "nbconvert_exporter": "python",
   "pygments_lexer": "ipython3",
   "version": "3.8.10"
  }
 },
 "nbformat": 4,
 "nbformat_minor": 2
}
