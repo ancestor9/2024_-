{
  "nbformat": 4,
  "nbformat_minor": 0,
  "metadata": {
    "colab": {
      "provenance": []
    },
    "kernelspec": {
      "name": "python3",
      "display_name": "Python 3"
    },
    "language_info": {
      "name": "python"
    }
  },
  "cells": [
    {
      "cell_type": "markdown",
      "source": [
        "## **What Does if __name__ == \"__main__\" in Python?**"
      ],
      "metadata": {
        "id": "aOG79kFafcgK"
      }
    },
    {
      "cell_type": "code",
      "execution_count": 1,
      "metadata": {
        "colab": {
          "base_uri": "https://localhost:8080/"
        },
        "id": "4KRRoRzlfNT_",
        "outputId": "1b927798-2bf2-48cb-ac4a-27f39d665250"
      },
      "outputs": [
        {
          "output_type": "stream",
          "name": "stdout",
          "text": [
            "my name is ---> __main__\n"
          ]
        }
      ],
      "source": [
        "if __name__ == \"__main__\":\n",
        "    print('my name is --->', __name__)"
      ]
    },
    {
      "cell_type": "code",
      "source": [
        "\n",
        "def main():\n",
        "\n",
        "    if __name__ == \"__main__\":\n",
        "        print('my name is in main function --->', __name__)\n",
        "    else:\n",
        "        print('my name is not in main fucntion --->', __name__)\n",
        "\n",
        "main()\n",
        "\n",
        "\n",
        "if __name__ == \"__main__\":\n",
        "    print('my name is _if__name==\"__main\" --->', __name__)"
      ],
      "metadata": {
        "colab": {
          "base_uri": "https://localhost:8080/"
        },
        "id": "5NMb1qsJqy9i",
        "outputId": "e8c5df82-0bef-414f-96a3-0466eec0493a"
      },
      "execution_count": 2,
      "outputs": [
        {
          "output_type": "stream",
          "name": "stdout",
          "text": [
            "my name is in main function ---> __main__\n",
            "my name is _if__name==\"__main\" ---> __main__\n"
          ]
        }
      ]
    },
    {
      "cell_type": "code",
      "source": [
        "%%writefile main.py\n",
        "\n",
        "def main():\n",
        "\n",
        "    if __name__ == \"__main__\":\n",
        "        print('my name is in main function --->', __name__)\n",
        "    else:\n",
        "        print('my name is not in main fucntion --->', '나 메인 아니야')\n",
        "\n",
        "main()\n",
        "\n",
        "\n",
        "if __name__ == \"__main__\":\n",
        "    print('my name is _if__name==\"__main\" --->', __name__)"
      ],
      "metadata": {
        "colab": {
          "base_uri": "https://localhost:8080/"
        },
        "id": "TsNi98rNnCK7",
        "outputId": "13e57f66-aa59-4db4-aa71-781641a04608"
      },
      "execution_count": 4,
      "outputs": [
        {
          "output_type": "stream",
          "name": "stdout",
          "text": [
            "Overwriting main.py\n"
          ]
        }
      ]
    },
    {
      "cell_type": "code",
      "source": [
        "! python main.py"
      ],
      "metadata": {
        "colab": {
          "base_uri": "https://localhost:8080/"
        },
        "id": "cLeggrLJnNnZ",
        "outputId": "53736e50-ba18-4e73-ca77-1f3f499f685f"
      },
      "execution_count": 5,
      "outputs": [
        {
          "output_type": "stream",
          "name": "stdout",
          "text": [
            "my name is in main function ---> __main__\n",
            "my name is _if__name==\"__main\" ---> __main__\n"
          ]
        }
      ]
    },
    {
      "cell_type": "code",
      "source": [
        "import main\n",
        "main.main()"
      ],
      "metadata": {
        "colab": {
          "base_uri": "https://localhost:8080/"
        },
        "id": "JT6D1-rbnNqv",
        "outputId": "b8824c31-b36e-426a-884f-d2485549b447"
      },
      "execution_count": 8,
      "outputs": [
        {
          "output_type": "stream",
          "name": "stdout",
          "text": [
            "my name is not in main fucntion ---> 나 메인 아니야\n"
          ]
        }
      ]
    },
    {
      "cell_type": "code",
      "source": [
        "# 가끔 못 불러와서 다시 확실히 import\n",
        "import importlib\n",
        "importlib.reload(main)\n"
      ],
      "metadata": {
        "colab": {
          "base_uri": "https://localhost:8080/"
        },
        "id": "69UAtSzDosCL",
        "outputId": "ef0e9c47-1a31-436b-d46a-2a631d527fa3"
      },
      "execution_count": null,
      "outputs": [
        {
          "output_type": "stream",
          "name": "stdout",
          "text": [
            "my name is not ---> main\n"
          ]
        },
        {
          "output_type": "execute_result",
          "data": {
            "text/plain": [
              "<module 'main' from '/content/main.py'>"
            ]
          },
          "metadata": {},
          "execution_count": 96
        }
      ]
    },
    {
      "cell_type": "code",
      "source": [
        "print(dir(main))"
      ],
      "metadata": {
        "colab": {
          "base_uri": "https://localhost:8080/"
        },
        "id": "I__bS3AMo3Dw",
        "outputId": "12cf0999-81d3-4e5b-b923-3d364d84f36e"
      },
      "execution_count": null,
      "outputs": [
        {
          "output_type": "stream",
          "name": "stdout",
          "text": [
            "['__builtins__', '__cached__', '__doc__', '__file__', '__loader__', '__name__', '__package__', '__spec__', 'main']\n"
          ]
        }
      ]
    },
    {
      "cell_type": "code",
      "source": [
        "import main\n",
        "main.main()"
      ],
      "metadata": {
        "colab": {
          "base_uri": "https://localhost:8080/"
        },
        "id": "A1nxdm-_nTTa",
        "outputId": "59c2ab10-249b-439b-9df1-3d779a6a3b2c"
      },
      "execution_count": 7,
      "outputs": [
        {
          "output_type": "stream",
          "name": "stdout",
          "text": [
            "my name is not in main fucntion ---> main\n"
          ]
        }
      ]
    },
    {
      "cell_type": "markdown",
      "source": [
        "### 참고"
      ],
      "metadata": {
        "id": "GtxVdCvJnCWp"
      }
    },
    {
      "cell_type": "code",
      "source": [
        "# echo.py\n",
        "def echo(text: str, repetitions: int = 3) -> str:\n",
        "    \"\"\"Imitate a real-world echo.\"\"\"\n",
        "    echoed_text = \"\"\n",
        "    for i in range(repetitions, 0, -1):\n",
        "        echoed_text += f\"{text[:i]} \"  # Change here to slice text progressively\n",
        "\n",
        "    print(\"File system encoding:\", sys.getfilesystemencoding())\n",
        "    return f\"{echoed_text.lower()}.\"\n",
        "\n",
        "echo('12345')"
      ],
      "metadata": {
        "colab": {
          "base_uri": "https://localhost:8080/",
          "height": 71
        },
        "id": "2QQUfJF_hTkY",
        "outputId": "dac04394-084f-4edd-e0e0-6ed8b55ca752"
      },
      "execution_count": null,
      "outputs": [
        {
          "output_type": "stream",
          "name": "stdout",
          "text": [
            "Default encoding: utf-8\n",
            "File system encoding: utf-8\n"
          ]
        },
        {
          "output_type": "execute_result",
          "data": {
            "text/plain": [
              "'123 12 1 .'"
            ],
            "application/vnd.google.colaboratory.intrinsic+json": {
              "type": "string"
            }
          },
          "metadata": {},
          "execution_count": 47
        }
      ]
    },
    {
      "cell_type": "code",
      "source": [
        "if __name__ == \"__main__\":\n",
        "    text = 'yahooooooooo'\n",
        "    print(echo(text))"
      ],
      "metadata": {
        "colab": {
          "base_uri": "https://localhost:8080/"
        },
        "id": "ljACTTtjiomL",
        "outputId": "7fbad2bd-bc00-49c4-d794-71ba823137f7"
      },
      "execution_count": null,
      "outputs": [
        {
          "output_type": "stream",
          "name": "stdout",
          "text": [
            "Default encoding: utf-8\n",
            "File system encoding: utf-8\n",
            "yah ya y .\n"
          ]
        }
      ]
    },
    {
      "cell_type": "code",
      "source": [
        "%%writefile echo.py\n",
        "# echo.py\n",
        "\n",
        "def echo(text: str, repetitions: int = 3) -> str:\n",
        "    \"\"\"Imitate a real-world echo.\"\"\"\n",
        "    echoed_text = \"\"\n",
        "    for i in range(repetitions, 0, -1):\n",
        "        echoed_text += f\"{text[:i]} \"  # Change here to slice text progressively\n",
        "\n",
        "    print(\"File system encoding:\", sys.getfilesystemencoding())\n",
        "\n",
        "    return f\"{echoed_text.lower()}.\"\n",
        "\n",
        "# if __name__ == \"__main__\":\n",
        "#     text = 'yahooooooooo'\n",
        "#     print(echo(text))"
      ],
      "metadata": {
        "colab": {
          "base_uri": "https://localhost:8080/"
        },
        "id": "X3Ov_KYsfTbE",
        "outputId": "8295d661-4ffd-4af2-8b19-8ee3b3dd2a52"
      },
      "execution_count": null,
      "outputs": [
        {
          "output_type": "stream",
          "name": "stdout",
          "text": [
            "Overwriting echo.py\n"
          ]
        }
      ]
    },
    {
      "cell_type": "code",
      "source": [
        "import echo\n",
        "echo.echo('12345')"
      ],
      "metadata": {
        "colab": {
          "base_uri": "https://localhost:8080/",
          "height": 35
        },
        "id": "qcE8HDK5fukk",
        "outputId": "e184e90a-abc6-4398-ffec-5da1c0674cde"
      },
      "execution_count": null,
      "outputs": [
        {
          "output_type": "execute_result",
          "data": {
            "text/plain": [
              "'345\\n45\\n5\\n.'"
            ],
            "application/vnd.google.colaboratory.intrinsic+json": {
              "type": "string"
            }
          },
          "metadata": {},
          "execution_count": 46
        }
      ]
    },
    {
      "cell_type": "code",
      "source": [
        "ooo\n",
        "oo\n",
        "o\n",
        "."
      ],
      "metadata": {
        "id": "QQNOPcc9hjSu"
      },
      "execution_count": null,
      "outputs": []
    },
    {
      "cell_type": "code",
      "source": [
        "%%writefile namemain.py\n",
        "# namemain.py\n",
        "\n",
        "print(__name__, type(__name__))\n",
        "\n",
        "if __name__ == \"__main__\":\n",
        "    print('내가 main 이야')\n",
        "    print(\"Nested code only runs in the top-level code environment\")"
      ],
      "metadata": {
        "colab": {
          "base_uri": "https://localhost:8080/"
        },
        "id": "GOOIuY2UkYdk",
        "outputId": "92cec2ba-ffa5-471d-82c7-b42feee99ad3"
      },
      "execution_count": null,
      "outputs": [
        {
          "output_type": "stream",
          "name": "stdout",
          "text": [
            "Overwriting namemain.py\n"
          ]
        }
      ]
    },
    {
      "cell_type": "code",
      "source": [
        "! python namemain.py"
      ],
      "metadata": {
        "colab": {
          "base_uri": "https://localhost:8080/"
        },
        "id": "4MXhCN7MlCye",
        "outputId": "546eea59-262e-42c8-e119-50f2cd44cdd7"
      },
      "execution_count": null,
      "outputs": [
        {
          "output_type": "stream",
          "name": "stdout",
          "text": [
            "__main__ <class 'str'>\n",
            "내 코드가 main 이야\n",
            "Nested code only runs in the top-level code environment\n"
          ]
        }
      ]
    },
    {
      "cell_type": "code",
      "source": [
        "import namemain"
      ],
      "metadata": {
        "id": "_FqiB1DqkhKb"
      },
      "execution_count": null,
      "outputs": []
    },
    {
      "cell_type": "code",
      "source": [
        "# 함수 정의\n",
        "def greet(name):\n",
        "    return f\"Hello, {name}!\"\n",
        "\n",
        "user_name = input(\"Enter your name: \")\n",
        "greeting = greet(user_name)\n",
        "print(greeting)\n",
        "\n",
        "\n",
        "# 메인 실행 조건\n",
        "if __name__ == \"__main__\":\n",
        "    user_name = input(\"Enter your name: \")\n",
        "    greeting = greet(user_name)\n",
        "    print(greeting)\n"
      ],
      "metadata": {
        "colab": {
          "base_uri": "https://localhost:8080/"
        },
        "id": "nbke6cRTl0E7",
        "outputId": "4163507e-63c7-4c4c-e0bb-5408015de5c5"
      },
      "execution_count": null,
      "outputs": [
        {
          "output_type": "stream",
          "name": "stdout",
          "text": [
            "Enter your name: 조상구\n",
            "Hello, 조상구!\n"
          ]
        }
      ]
    },
    {
      "cell_type": "code",
      "source": [
        "# 모듈 파일 저장 예제\n",
        "%%writefile mymodule.py\n",
        "def greet(name):\n",
        "    return f\"Hello, {name}!\"\n",
        "\n",
        "if __name__ == \"__main__\":\n",
        "    print(\"This runs only if executed directly.\")\n"
      ],
      "metadata": {
        "colab": {
          "base_uri": "https://localhost:8080/"
        },
        "id": "0wdc2NABl0IT",
        "outputId": "937febd4-156a-4e25-884e-a88eab2763b6"
      },
      "execution_count": null,
      "outputs": [
        {
          "output_type": "stream",
          "name": "stdout",
          "text": [
            "Writing mymodule.py\n"
          ]
        }
      ]
    },
    {
      "cell_type": "code",
      "source": [
        "# 저장된 모듈 불러오기 및 사용\n",
        "import mymodule\n",
        "print(mymodule.greet(\"World\"))"
      ],
      "metadata": {
        "colab": {
          "base_uri": "https://localhost:8080/"
        },
        "id": "PFWusfH1l79p",
        "outputId": "204bd984-b25e-4cb3-9b33-c8f5347589b3"
      },
      "execution_count": null,
      "outputs": [
        {
          "output_type": "stream",
          "name": "stdout",
          "text": [
            "Hello, World!\n"
          ]
        }
      ]
    },
    {
      "cell_type": "code",
      "source": [],
      "metadata": {
        "id": "etKyoZvHma3s"
      },
      "execution_count": null,
      "outputs": []
    }
  ]
}